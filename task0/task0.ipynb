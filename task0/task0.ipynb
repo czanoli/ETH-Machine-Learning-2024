{
 "cells": [
  {
   "cell_type": "markdown",
   "metadata": {},
   "source": [
    "### Import Libraries"
   ]
  },
  {
   "cell_type": "code",
   "execution_count": 39,
   "metadata": {},
   "outputs": [],
   "source": [
    "import pandas as pd\n",
    "from sklearn.preprocessing import StandardScaler\n",
    "from sklearn.linear_model import RANSACRegressor\n",
    "from sklearn.metrics import mean_squared_error"
   ]
  },
  {
   "cell_type": "markdown",
   "metadata": {},
   "source": [
    "### Import Data and Get Features and Target"
   ]
  },
  {
   "cell_type": "code",
   "execution_count": 27,
   "metadata": {},
   "outputs": [],
   "source": [
    "df = pd.read_csv(\"train.csv\", dtype=str)\n",
    "test = pd.read_csv(\"test.csv\", dtype=str)\n",
    "sample = pd.read_csv(\"sample.csv\", dtype=str)\n",
    "\n",
    "features = df.columns[2:].tolist()\n",
    "target = df.columns[1:2].tolist()\n",
    "id = test.columns[0:1].tolist()\n",
    "\n",
    "test_ids = test.loc[:, id]\n",
    "\n",
    "X_train = df.loc[:, features]\n",
    "y_train = df.loc[:, target]\n",
    "\n",
    "X_test = test.loc[:, features]\n",
    "\n",
    "id_submission_col_name = list(sample.columns)[0]\n",
    "target_submission_col_name = list(sample.columns)[1]"
   ]
  },
  {
   "cell_type": "markdown",
   "metadata": {},
   "source": [
    "### Convert DataType"
   ]
  },
  {
   "cell_type": "code",
   "execution_count": 31,
   "metadata": {},
   "outputs": [],
   "source": [
    "for column in list(X_train.columns):\n",
    "    X_train[column] = X_train[column].astype(float)\n",
    "    \n",
    "for column in list(X_test.columns):\n",
    "    X_test[column] = X_test[column].astype(float)"
   ]
  },
  {
   "cell_type": "markdown",
   "metadata": {},
   "source": [
    "### Check Missing Values"
   ]
  },
  {
   "cell_type": "code",
   "execution_count": 32,
   "metadata": {},
   "outputs": [],
   "source": [
    "has_missing_values_train = X_train.isnull().values.any()\n",
    "has_missing_values_test = X_test.isnull().values.any()\n",
    "\n",
    "# Neither train nor test datasets contain missing values"
   ]
  },
  {
   "cell_type": "markdown",
   "metadata": {},
   "source": [
    "### Standardization"
   ]
  },
  {
   "cell_type": "code",
   "execution_count": 33,
   "metadata": {},
   "outputs": [],
   "source": [
    "scaler = StandardScaler().fit(X_train)\n",
    "X_train_std = pd.DataFrame(scaler.transform(X_train), columns=list(X_train.columns))"
   ]
  },
  {
   "cell_type": "markdown",
   "metadata": {},
   "source": [
    "### RANSAC model"
   ]
  },
  {
   "cell_type": "code",
   "execution_count": 34,
   "metadata": {},
   "outputs": [],
   "source": [
    "# Using boxplots I found out the presence of outliers. Generally, regressions tasks are sensitive to those so I will use a \n",
    "# robust model, like RANSAC. Generally one should perform model selection through cross validation (for example), but for this dummy task I won't\n",
    "ransac = RANSACRegressor(random_state=42).fit(X_train_std, y_train)"
   ]
  },
  {
   "cell_type": "code",
   "execution_count": 35,
   "metadata": {},
   "outputs": [],
   "source": [
    "# Note: I wont't perform feature selection just for simplicity."
   ]
  },
  {
   "cell_type": "markdown",
   "metadata": {},
   "source": [
    "### Prediction"
   ]
  },
  {
   "cell_type": "code",
   "execution_count": 36,
   "metadata": {},
   "outputs": [],
   "source": [
    "# Feature scaling X_test (only apply transform!)\n",
    "X_test_std = pd.DataFrame(scaler.transform(X_test), columns=X_test.columns)\n",
    "\n",
    "# Prediction\n",
    "y_pred = ransac.predict(X_test_std)"
   ]
  },
  {
   "cell_type": "code",
   "execution_count": 38,
   "metadata": {},
   "outputs": [
    {
     "data": {
      "text/plain": [
       "array([[ -66.00242349],\n",
       "       [ 451.4065044 ],\n",
       "       [-461.67641706],\n",
       "       ...,\n",
       "       [ -35.13540942],\n",
       "       [-131.67918453],\n",
       "       [ 417.26915462]])"
      ]
     },
     "execution_count": 38,
     "metadata": {},
     "output_type": "execute_result"
    }
   ],
   "source": [
    "y_pred"
   ]
  },
  {
   "cell_type": "code",
   "execution_count": 40,
   "metadata": {},
   "outputs": [
    {
     "name": "stdout",
     "output_type": "stream",
     "text": [
      "1.8675639608563783e-13\n"
     ]
    }
   ],
   "source": [
    "# Note: normally one would not have the real model to get y. Here hase been provided though\n",
    "# We can compute the mean of X_test to see the RMSE \n",
    "y_real = X_test.mean(axis=1)\n",
    "RMSE = mean_squared_error(y_real, y_pred)**0.5\n",
    "print(RMSE)"
   ]
  },
  {
   "cell_type": "markdown",
   "metadata": {},
   "source": [
    "### Format submission"
   ]
  },
  {
   "cell_type": "code",
   "execution_count": 60,
   "metadata": {},
   "outputs": [
    {
     "data": {
      "text/html": [
       "<div>\n",
       "<style scoped>\n",
       "    .dataframe tbody tr th:only-of-type {\n",
       "        vertical-align: middle;\n",
       "    }\n",
       "\n",
       "    .dataframe tbody tr th {\n",
       "        vertical-align: top;\n",
       "    }\n",
       "\n",
       "    .dataframe thead th {\n",
       "        text-align: right;\n",
       "    }\n",
       "</style>\n",
       "<table border=\"1\" class=\"dataframe\">\n",
       "  <thead>\n",
       "    <tr style=\"text-align: right;\">\n",
       "      <th></th>\n",
       "      <th>Id</th>\n",
       "      <th>y</th>\n",
       "    </tr>\n",
       "  </thead>\n",
       "  <tbody>\n",
       "    <tr>\n",
       "      <th>0</th>\n",
       "      <td>10000</td>\n",
       "      <td>-66.002423</td>\n",
       "    </tr>\n",
       "    <tr>\n",
       "      <th>1</th>\n",
       "      <td>10001</td>\n",
       "      <td>451.406504</td>\n",
       "    </tr>\n",
       "    <tr>\n",
       "      <th>2</th>\n",
       "      <td>10002</td>\n",
       "      <td>-461.676417</td>\n",
       "    </tr>\n",
       "    <tr>\n",
       "      <th>3</th>\n",
       "      <td>10003</td>\n",
       "      <td>40.501209</td>\n",
       "    </tr>\n",
       "    <tr>\n",
       "      <th>4</th>\n",
       "      <td>10004</td>\n",
       "      <td>-126.744722</td>\n",
       "    </tr>\n",
       "    <tr>\n",
       "      <th>...</th>\n",
       "      <td>...</td>\n",
       "      <td>...</td>\n",
       "    </tr>\n",
       "    <tr>\n",
       "      <th>1995</th>\n",
       "      <td>11995</td>\n",
       "      <td>464.715255</td>\n",
       "    </tr>\n",
       "    <tr>\n",
       "      <th>1996</th>\n",
       "      <td>11996</td>\n",
       "      <td>496.485334</td>\n",
       "    </tr>\n",
       "    <tr>\n",
       "      <th>1997</th>\n",
       "      <td>11997</td>\n",
       "      <td>-35.135409</td>\n",
       "    </tr>\n",
       "    <tr>\n",
       "      <th>1998</th>\n",
       "      <td>11998</td>\n",
       "      <td>-131.679185</td>\n",
       "    </tr>\n",
       "    <tr>\n",
       "      <th>1999</th>\n",
       "      <td>11999</td>\n",
       "      <td>417.269155</td>\n",
       "    </tr>\n",
       "  </tbody>\n",
       "</table>\n",
       "<p>2000 rows × 2 columns</p>\n",
       "</div>"
      ],
      "text/plain": [
       "         Id           y\n",
       "0     10000  -66.002423\n",
       "1     10001  451.406504\n",
       "2     10002 -461.676417\n",
       "3     10003   40.501209\n",
       "4     10004 -126.744722\n",
       "...     ...         ...\n",
       "1995  11995  464.715255\n",
       "1996  11996  496.485334\n",
       "1997  11997  -35.135409\n",
       "1998  11998 -131.679185\n",
       "1999  11999  417.269155\n",
       "\n",
       "[2000 rows x 2 columns]"
      ]
     },
     "execution_count": 60,
     "metadata": {},
     "output_type": "execute_result"
    }
   ],
   "source": [
    "submission = pd.DataFrame({id_submission_col_name: test_ids.values.flatten(), target_submission_col_name: y_pred.flatten()})\n",
    "submission"
   ]
  },
  {
   "cell_type": "code",
   "execution_count": 61,
   "metadata": {},
   "outputs": [],
   "source": [
    "# Save CSV file\n",
    "submission.to_csv('predictions.csv', sep = ',', index = False)"
   ]
  },
  {
   "cell_type": "code",
   "execution_count": null,
   "metadata": {},
   "outputs": [],
   "source": []
  }
 ],
 "metadata": {
  "kernelspec": {
   "display_name": "IML_task0",
   "language": "python",
   "name": "python3"
  },
  "language_info": {
   "codemirror_mode": {
    "name": "ipython",
    "version": 3
   },
   "file_extension": ".py",
   "mimetype": "text/x-python",
   "name": "python",
   "nbconvert_exporter": "python",
   "pygments_lexer": "ipython3",
   "version": "3.12.1"
  }
 },
 "nbformat": 4,
 "nbformat_minor": 2
}
